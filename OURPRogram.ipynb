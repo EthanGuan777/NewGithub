{
 "cells": [
  {
   "cell_type": "markdown",
   "metadata": {},
   "source": [
    "* It takes a name input\n",
    "* It takes some other input\n",
    "* It does Something™ with this other input"
   ]
  },
  {
   "cell_type": "code",
   "execution_count": null,
   "metadata": {},
   "outputs": [],
   "source": [
    "nameInput = input(\"Please enter a name!\")\n",
    "userage = input(\"What is your age\")\n",
    "if( int(userage) > 50):\n",
    "    print(nameInput + \" \" + \"you are over 50\")\n",
    "else:\n",
    "    print(nameInput + \" \" + \"you are not over 50\")"
   ]
  },
  {
   "cell_type": "code",
   "execution_count": null,
   "metadata": {},
   "outputs": [],
   "source": []
  }
 ],
 "metadata": {
  "kernelspec": {
   "display_name": "Python 3",
   "language": "python",
   "name": "python3"
  },
  "language_info": {
   "codemirror_mode": {
    "name": "ipython",
    "version": 3
   },
   "file_extension": ".py",
   "mimetype": "text/x-python",
   "name": "python",
   "nbconvert_exporter": "python",
   "pygments_lexer": "ipython3",
   "version": "3.8.3"
  }
 },
 "nbformat": 4,
 "nbformat_minor": 4
}
